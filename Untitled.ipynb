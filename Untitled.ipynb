{
 "cells": [
  {
   "cell_type": "code",
   "execution_count": 9,
   "metadata": {},
   "outputs": [],
   "source": [
    "import pandas as pd\n",
    "import sqlite3\n",
    "file = \"chamado_ocorrencia1.csv\""
   ]
  },
  {
   "cell_type": "code",
   "execution_count": null,
   "metadata": {},
   "outputs": [],
   "source": [
    "csvFile = pd.read_csv(file, sep=';')\n",
    "csvFile = csvFile.drop(0)\n",
    "csvFile.head()"
   ]
  },
  {
   "cell_type": "code",
   "execution_count": 11,
   "metadata": {},
   "outputs": [],
   "source": [
    "conn = sqlite3.connect(\"testee.db\")\n",
    "cur = conn.cursor()\n",
    "csvFile.to_sql(\"historico\", conn, if_exists=\"replace\")"
   ]
  },
  {
   "cell_type": "code",
   "execution_count": 12,
   "metadata": {},
   "outputs": [
    {
     "data": {
      "text/html": [
       "<div>\n",
       "<style scoped>\n",
       "    .dataframe tbody tr th:only-of-type {\n",
       "        vertical-align: middle;\n",
       "    }\n",
       "\n",
       "    .dataframe tbody tr th {\n",
       "        vertical-align: top;\n",
       "    }\n",
       "\n",
       "    .dataframe thead th {\n",
       "        text-align: right;\n",
       "    }\n",
       "</style>\n",
       "<table border=\"1\" class=\"dataframe\">\n",
       "  <thead>\n",
       "    <tr style=\"text-align: right;\">\n",
       "      <th></th>\n",
       "      <th>index</th>\n",
       "      <th>SOLICITACAO</th>\n",
       "      <th>DATA</th>\n",
       "      <th>HORA</th>\n",
       "      <th>HISTORICO</th>\n",
       "    </tr>\n",
       "  </thead>\n",
       "  <tbody>\n",
       "    <tr>\n",
       "      <th>0</th>\n",
       "      <td>521152</td>\n",
       "      <td>7229805</td>\n",
       "      <td>28/02/2018</td>\n",
       "      <td>09:33:19</td>\n",
       "      <td>Criação do documento e envio ao RSO</td>\n",
       "    </tr>\n",
       "    <tr>\n",
       "      <th>1</th>\n",
       "      <td>521153</td>\n",
       "      <td>7229805</td>\n",
       "      <td>28/02/2018</td>\n",
       "      <td>13:24:47</td>\n",
       "      <td>Responder para o solicitante</td>\n",
       "    </tr>\n",
       "    <tr>\n",
       "      <th>2</th>\n",
       "      <td>521154</td>\n",
       "      <td>7229805</td>\n",
       "      <td>28/02/2018</td>\n",
       "      <td>12:03:47</td>\n",
       "      <td>Documento \"lido\" pelo RSO</td>\n",
       "    </tr>\n",
       "    <tr>\n",
       "      <th>3</th>\n",
       "      <td>521155</td>\n",
       "      <td>7229805</td>\n",
       "      <td>28/02/2018</td>\n",
       "      <td>13:24:52</td>\n",
       "      <td>Envio do e-mail de resposta</td>\n",
       "    </tr>\n",
       "    <tr>\n",
       "      <th>4</th>\n",
       "      <td>521156</td>\n",
       "      <td>7229805</td>\n",
       "      <td>28/02/2018</td>\n",
       "      <td>12:03:55</td>\n",
       "      <td>Impressão</td>\n",
       "    </tr>\n",
       "  </tbody>\n",
       "</table>\n",
       "</div>"
      ],
      "text/plain": [
       "    index SOLICITACAO        DATA      HORA  \\\n",
       "0  521152     7229805  28/02/2018  09:33:19   \n",
       "1  521153     7229805  28/02/2018  13:24:47   \n",
       "2  521154     7229805  28/02/2018  12:03:47   \n",
       "3  521155     7229805  28/02/2018  13:24:52   \n",
       "4  521156     7229805  28/02/2018  12:03:55   \n",
       "\n",
       "                             HISTORICO  \n",
       "0  Criação do documento e envio ao RSO  \n",
       "1         Responder para o solicitante  \n",
       "2            Documento \"lido\" pelo RSO  \n",
       "3          Envio do e-mail de resposta  \n",
       "4                            Impressão  "
      ]
     },
     "execution_count": 12,
     "metadata": {},
     "output_type": "execute_result"
    }
   ],
   "source": [
    "pd.read_sql_query(\"select * from historico where SOLICITACAO=7229805;\", conn)"
   ]
  },
  {
   "cell_type": "code",
   "execution_count": 13,
   "metadata": {},
   "outputs": [],
   "source": [
    "from flask import Flask, request\n",
    "from flask_restful import Resource, Api\n",
    "from sqlalchemy import create_engine\n",
    "from json import dumps\n",
    "\n",
    "#Create a engine for connecting to SQLite3.\n",
    "#Assuming salaries.db is in your app root folder\n",
    "\n",
    "e = create_engine('sqlite:///testee.db')\n",
    "\n",
    "app = Flask(__name__)\n",
    "api = Api(app)"
   ]
  },
  {
   "cell_type": "code",
   "execution_count": null,
   "metadata": {},
   "outputs": [],
   "source": [
    "class Solicitacao_Get(Resource):\n",
    "    def get(self, solicitacao_id):\n",
    "        #Connect to databse\n",
    "        conn = e.connect()\n",
    "        #Perform query and return JSON data\n",
    "        query = conn.execute(\"select * from historico where SOLICITACAO='%s'\"%solicitacao_id.upper())\n",
    "        return {'result': [i[2:] for i in query.cursor.fetchall()],}"
   ]
  },
  {
   "cell_type": "code",
   "execution_count": null,
   "metadata": {},
   "outputs": [
    {
     "name": "stderr",
     "output_type": "stream",
     "text": [
      " * Running on http://127.0.0.1:5000/ (Press CTRL+C to quit)\n",
      "127.0.0.1 - - [09/May/2018 00:34:52] \"GET /solicitacao/7229809 HTTP/1.1\" 200 -\n",
      "127.0.0.1 - - [09/May/2018 00:35:00] \"GET /solicitacao/7229809 HTTP/1.1\" 200 -\n"
     ]
    }
   ],
   "source": [
    "api.add_resource(Solicitacao_Get, '/solicitacao/<string:solicitacao_id>')\n",
    "\n",
    "if __name__ == '__main__':\n",
    "     app.run()"
   ]
  },
  {
   "cell_type": "code",
   "execution_count": null,
   "metadata": {},
   "outputs": [],
   "source": []
  },
  {
   "cell_type": "code",
   "execution_count": null,
   "metadata": {},
   "outputs": [],
   "source": []
  }
 ],
 "metadata": {
  "kernelspec": {
   "display_name": "Python 3",
   "language": "python",
   "name": "python3"
  },
  "language_info": {
   "codemirror_mode": {
    "name": "ipython",
    "version": 3
   },
   "file_extension": ".py",
   "mimetype": "text/x-python",
   "name": "python",
   "nbconvert_exporter": "python",
   "pygments_lexer": "ipython3",
   "version": "3.6.4"
  }
 },
 "nbformat": 4,
 "nbformat_minor": 2
}
